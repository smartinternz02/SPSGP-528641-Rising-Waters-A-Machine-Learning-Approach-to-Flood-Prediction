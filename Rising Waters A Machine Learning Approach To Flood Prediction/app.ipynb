{
 "cells": [
  {
   "cell_type": "code",
   "execution_count": null,
   "metadata": {},
   "outputs": [],
   "source": [
    "pip install flask"
   ]
  },
  {
   "cell_type": "code",
   "execution_count": null,
   "metadata": {},
   "outputs": [],
   "source": [
    "pip install joblib"
   ]
  },
  {
   "cell_type": "code",
   "execution_count": null,
   "metadata": {},
   "outputs": [],
   "source": [
    "!pip install waitress\n"
   ]
  },
  {
   "cell_type": "code",
   "execution_count": null,
   "metadata": {},
   "outputs": [
    {
     "name": "stdout",
     "output_type": "stream",
     "text": [
      " * Serving Flask app \"__main__\" (lazy loading)\n",
      " * Environment: production\n",
      "\u001b[31m   WARNING: This is a development server. Do not use it in a production deployment.\u001b[0m\n",
      "\u001b[2m   Use a production WSGI server instead.\u001b[0m\n",
      " * Debug mode: off\n"
     ]
    },
    {
     "name": "stderr",
     "output_type": "stream",
     "text": [
      " * Running on http://127.0.0.1:5000/ (Press CTRL+C to quit)\n",
      "127.0.0.1 - - [03/Aug/2023 21:04:02] \"GET / HTTP/1.1\" 200 -\n",
      "127.0.0.1 - - [03/Aug/2023 21:04:02] \"GET /styles.css HTTP/1.1\" 404 -\n",
      "127.0.0.1 - - [03/Aug/2023 21:04:06] \"GET /flood_predict.html HTTP/1.1\" 404 -\n",
      "127.0.0.1 - - [03/Aug/2023 21:04:22] \"GET /flood_predict.html HTTP/1.1\" 404 -\n",
      "127.0.0.1 - - [03/Aug/2023 21:04:44] \"GET /flood_predict.html HTTP/1.1\" 404 -\n",
      "127.0.0.1 - - [03/Aug/2023 21:05:10] \"GET / HTTP/1.1\" 200 -\n",
      "127.0.0.1 - - [03/Aug/2023 21:05:10] \"GET /styles.css HTTP/1.1\" 404 -\n",
      "127.0.0.1 - - [03/Aug/2023 21:05:13] \"GET /flood_predict.html HTTP/1.1\" 404 -\n",
      "127.0.0.1 - - [03/Aug/2023 21:53:44] \"GET / HTTP/1.1\" 200 -\n",
      "127.0.0.1 - - [03/Aug/2023 21:53:44] \"GET /styles.css HTTP/1.1\" 404 -\n",
      "127.0.0.1 - - [03/Aug/2023 21:53:46] \"GET /flood_predict.html HTTP/1.1\" 404 -\n",
      "127.0.0.1 - - [03/Aug/2023 21:56:54] \"GET / HTTP/1.1\" 200 -\n",
      "127.0.0.1 - - [03/Aug/2023 21:56:54] \"GET /styles.css HTTP/1.1\" 404 -\n",
      "127.0.0.1 - - [03/Aug/2023 21:56:56] \"GET /flood_predict.html HTTP/1.1\" 404 -\n",
      "127.0.0.1 - - [03/Aug/2023 21:59:12] \"GET / HTTP/1.1\" 200 -\n",
      "127.0.0.1 - - [03/Aug/2023 21:59:12] \"GET /styles.css HTTP/1.1\" 404 -\n",
      "127.0.0.1 - - [03/Aug/2023 21:59:14] \"GET /flood_predict.html HTTP/1.1\" 404 -\n",
      "127.0.0.1 - - [03/Aug/2023 22:02:04] \"GET /flood_predict.html HTTP/1.1\" 404 -\n"
     ]
    }
   ],
   "source": [
    "from flask import Flask, request, render_template\n",
    "from joblib import load\n",
    "app = Flask(__name__)\n",
    "model=load('floods.save')\n",
    "sc=load('transform.save')\n",
    "@app.route('/',methods=['GET'])\n",
    "def home():\n",
    "    return render_template(\"home.html\")\n",
    "    \n",
    "@app.route('/flood_predict',methods=['GET'])\n",
    "def flood_predicts_page():\n",
    "    return render_template(\"flood_predict.html\")\n",
    "@app.route('/data_predict',methods=['POST'])\n",
    "def predict():\n",
    "    temp=request.form['cloudCover']\n",
    "    Hum=request.form['annualRainfall']\n",
    "    db=request.form['janFebRainfall']\n",
    "    ap=request.form['marchMayRainfall']\n",
    "    aal=request.form['juneSeptRainfall']\n",
    "\n",
    "    data=[[float(temp),float(Hum),float(db),float(ap),float(aal)]]\n",
    "    prediction=model.predict(sc.transform(data))\n",
    "    output=prediction[0]\n",
    "    print(output)\n",
    "    if(output==0):\n",
    "        return render_template('noChance.html')\n",
    "    else:\n",
    "        return render_template('chance.html',prediction='possibility of server flood') \n",
    "if __name__ == \"__main__\":\n",
    "    app.run()\n"
   ]
  },
  {
   "cell_type": "code",
   "execution_count": null,
   "metadata": {},
   "outputs": [],
   "source": []
  }
 ],
 "metadata": {
  "kernelspec": {
   "display_name": "Python 3 (ipykernel)",
   "language": "python",
   "name": "python3"
  },
  "language_info": {
   "codemirror_mode": {
    "name": "ipython",
    "version": 3
   },
   "file_extension": ".py",
   "mimetype": "text/x-python",
   "name": "python",
   "nbconvert_exporter": "python",
   "pygments_lexer": "ipython3",
   "version": "3.11.1"
  }
 },
 "nbformat": 4,
 "nbformat_minor": 2
}
